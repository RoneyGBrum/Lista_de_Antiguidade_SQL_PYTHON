{
 "cells": [
  {
   "cell_type": "code",
   "execution_count": 1,
   "id": "90f8e846",
   "metadata": {},
   "outputs": [],
   "source": [
    "import pandas as pd\n",
    "import numpy as np\n",
    "from datetime import datetime, date\n",
    "from tkinter import *\n",
    "import tkinter.filedialog\n",
    "from tkinter import messagebox"
   ]
  },
  {
   "cell_type": "markdown",
   "id": "fb6a9cb9",
   "metadata": {},
   "source": [
    "### Categoria Especial"
   ]
  },
  {
   "cell_type": "code",
   "execution_count": 2,
   "id": "51250f16",
   "metadata": {},
   "outputs": [],
   "source": [
    "root= Tk()\n",
    "nome_arquivo = tkinter.filedialog.askopenfilename(title = \"Selecione o Arquivo lista de antiguidade que deseja ordenar\")\n",
    "root.destroy()"
   ]
  },
  {
   "cell_type": "code",
   "execution_count": 3,
   "id": "84888f95",
   "metadata": {},
   "outputs": [],
   "source": [
    "cat_s = pd.read_excel(nome_arquivo, sheet_name= \"Especial\", header=11)"
   ]
  },
  {
   "cell_type": "code",
   "execution_count": 4,
   "id": "056a54a6",
   "metadata": {},
   "outputs": [],
   "source": [
    "cat_s = cat_s.drop(cat_s.loc[cat_s.index == 0].index)\n"
   ]
  },
  {
   "cell_type": "code",
   "execution_count": 5,
   "id": "82a42bb3",
   "metadata": {},
   "outputs": [],
   "source": [
    "cat_s = cat_s.rename(columns={cat_s.columns[0]: \"POSICAO\",\n",
    "                              cat_s.columns[1]: \"NOME\",\n",
    "                              cat_s.columns[2]: \"DATA DE INGRESSO NA CATEGORIA\",\n",
    "                              cat_s.columns[3]: \"DATA DE INGRESSO NA CARREIRA\",\n",
    "                              cat_s.columns[4]: \"1 - tempo de exercicio na categoria\",\n",
    "                              cat_s.columns[5]: \"2 - tempo exercicio na carreira\",\n",
    "                              cat_s.columns[6]: \"3 - tempo serv públ. Federal\",\n",
    "                              cat_s.columns[7]: \"4 - Serv. Públ. Geral (fed. /est./munic./distrital)\",\n",
    "                              cat_s.columns[8]: \"5 - Data de Nascimento\",\n",
    "                              cat_s.columns[9]: \"6 - Classificação no  Concurso\"})\n",
    "cat_s[\"CATEGORIA\"] = \"S\""
   ]
  },
  {
   "cell_type": "code",
   "execution_count": 6,
   "id": "e94d3fa9",
   "metadata": {},
   "outputs": [],
   "source": [
    "cat_s = cat_s.drop(cat_s.loc[cat_s[\"NOME\"].isnull()].index)"
   ]
  },
  {
   "cell_type": "code",
   "execution_count": 7,
   "id": "77d90c00",
   "metadata": {},
   "outputs": [],
   "source": [
    "cat_s = cat_s[[\"POSICAO\", \"NOME\", \"DATA DE INGRESSO NA CATEGORIA\", \"DATA DE INGRESSO NA CARREIRA\",\n",
    "              \"1 - tempo de exercicio na categoria\", \"2 - tempo exercicio na carreira\",\n",
    "              \"3 - tempo serv públ. Federal\", \"4 - Serv. Públ. Geral (fed. /est./munic./distrital)\",\n",
    "              \"5 - Data de Nascimento\", \"6 - Classificação no  Concurso\", \"CATEGORIA\"]]"
   ]
  },
  {
   "cell_type": "code",
   "execution_count": 8,
   "id": "272ce995",
   "metadata": {},
   "outputs": [],
   "source": [
    "cat_s = cat_s.sort_values(by=[\"5 - Data de Nascimento\"])\n",
    "cat_s = cat_s.sort_values(by=[\"1 - tempo de exercicio na categoria\", \"2 - tempo exercicio na carreira\", \n",
    "                              \"3 - tempo serv públ. Federal\", \n",
    "                              \"4 - Serv. Públ. Geral (fed. /est./munic./distrital)\"], ascending=False)\n",
    "cat_s[\"POSICAO\"] = 0\n",
    "cat_s[\"POSICAO\"] = np.arange(1,(len(list(cat_s['NOME']))+1))"
   ]
  },
  {
   "cell_type": "code",
   "execution_count": 9,
   "id": "1ccadfe0",
   "metadata": {},
   "outputs": [],
   "source": [
    "cat_s[\"DATA DE INGRESSO NA CATEGORIA\"] = cat_s[\"DATA DE INGRESSO NA CATEGORIA\"].dt.strftime(\"%d/%m/%Y\")\n",
    "cat_s[\"DATA DE INGRESSO NA CARREIRA\"] = cat_s[\"DATA DE INGRESSO NA CARREIRA\"].dt.strftime(\"%d/%m/%Y\")\n",
    "cat_s[\"5 - Data de Nascimento\"] = cat_s[\"5 - Data de Nascimento\"].dt.strftime(\"%d/%m/%Y\")"
   ]
  },
  {
   "cell_type": "markdown",
   "id": "d8e1d5a3",
   "metadata": {},
   "source": [
    "### 1ª Categoria"
   ]
  },
  {
   "cell_type": "code",
   "execution_count": 10,
   "id": "63bcd2ff",
   "metadata": {},
   "outputs": [],
   "source": [
    "cat_1 = pd.read_excel(nome_arquivo, sheet_name= \"1 Categoria\", header=10)"
   ]
  },
  {
   "cell_type": "code",
   "execution_count": 11,
   "id": "c228e546",
   "metadata": {},
   "outputs": [],
   "source": [
    "cat_1 = cat_1.rename(columns={cat_1.columns[0]: \"POSICAO\",\n",
    "                              cat_1.columns[1]: \"NOME\",\n",
    "                              cat_1.columns[2]: \"DATA DE INGRESSO NA CATEGORIA\",\n",
    "                              cat_1.columns[3]: \"DATA DE INGRESSO NA CARREIRA\",\n",
    "                              cat_1.columns[4]: \"1 - tempo de exercicio na categoria\",\n",
    "                              cat_1.columns[5]: \"2 - tempo exercicio na carreira\",\n",
    "                              cat_1.columns[6]: \"3 - tempo serv públ. Federal\",\n",
    "                              cat_1.columns[7]: \"4 - Serv. Públ. Geral (fed. /est./munic./distrital)\",\n",
    "                              cat_1.columns[8]: \"5 - Data de Nascimento\",\n",
    "                              cat_1.columns[9]: \"6 - Classificação no  Concurso\"})\n",
    "cat_1[\"CATEGORIA\"] = \"1\""
   ]
  },
  {
   "cell_type": "code",
   "execution_count": 12,
   "id": "119324e6",
   "metadata": {},
   "outputs": [],
   "source": [
    "cat_1 = cat_1.drop(cat_1.loc[cat_1[\"NOME\"].isnull()].index)"
   ]
  },
  {
   "cell_type": "code",
   "execution_count": 13,
   "id": "c44b6a52",
   "metadata": {},
   "outputs": [],
   "source": [
    "cat_1 = cat_1[[\"POSICAO\", \"NOME\", \"DATA DE INGRESSO NA CATEGORIA\", \"DATA DE INGRESSO NA CARREIRA\",\n",
    "              \"1 - tempo de exercicio na categoria\", \"2 - tempo exercicio na carreira\",\n",
    "              \"3 - tempo serv públ. Federal\", \"4 - Serv. Públ. Geral (fed. /est./munic./distrital)\",\n",
    "              \"5 - Data de Nascimento\", \"6 - Classificação no  Concurso\", \"CATEGORIA\"]]"
   ]
  },
  {
   "cell_type": "code",
   "execution_count": 14,
   "id": "84127095",
   "metadata": {},
   "outputs": [],
   "source": [
    "cat_1 = cat_1.sort_values(by=[\"5 - Data de Nascimento\"])\n",
    "cat_1 = cat_1.sort_values(by=[\"1 - tempo de exercicio na categoria\", \"2 - tempo exercicio na carreira\", \n",
    "                              \"3 - tempo serv públ. Federal\", \n",
    "                              \"4 - Serv. Públ. Geral (fed. /est./munic./distrital)\"], ascending=False)\n",
    "cat_1[\"POSICAO\"] = 0\n",
    "cat_1[\"POSICAO\"] = np.arange(1,(len(list(cat_1['NOME']))+1))"
   ]
  },
  {
   "cell_type": "code",
   "execution_count": 15,
   "id": "c14b9dfb",
   "metadata": {},
   "outputs": [],
   "source": [
    "cat_1[\"DATA DE INGRESSO NA CATEGORIA\"] = cat_1[\"DATA DE INGRESSO NA CATEGORIA\"].astype(\"datetime64\")\n",
    "cat_1[\"DATA DE INGRESSO NA CATEGORIA\"] = cat_1[\"DATA DE INGRESSO NA CATEGORIA\"].dt.strftime(\"%d/%m/%Y\")\n",
    "cat_1[\"DATA DE INGRESSO NA CARREIRA\"] = cat_1[\"DATA DE INGRESSO NA CARREIRA\"].astype(\"datetime64\")\n",
    "cat_1[\"DATA DE INGRESSO NA CARREIRA\"] = cat_1[\"DATA DE INGRESSO NA CARREIRA\"].dt.strftime(\"%d/%m/%Y\")\n",
    "cat_1[\"5 - Data de Nascimento\"] = cat_1[\"5 - Data de Nascimento\"].astype(\"datetime64\")\n",
    "cat_1[\"5 - Data de Nascimento\"] = cat_1[\"5 - Data de Nascimento\"].dt.strftime(\"%d/%m/%Y\")"
   ]
  },
  {
   "cell_type": "markdown",
   "id": "27fe4103",
   "metadata": {},
   "source": [
    "### 2ª Categoria"
   ]
  },
  {
   "cell_type": "code",
   "execution_count": 16,
   "id": "f59ba8a9",
   "metadata": {},
   "outputs": [],
   "source": [
    "cat_2 = pd.read_excel(nome_arquivo, sheet_name= \"2 Categoria\", header=10)"
   ]
  },
  {
   "cell_type": "code",
   "execution_count": 17,
   "id": "3cfe9e21",
   "metadata": {},
   "outputs": [],
   "source": [
    "cat_2 = cat_2.rename(columns={cat_2.columns[0]: \"POSICAO\",\n",
    "                              cat_2.columns[1]: \"NOME\",\n",
    "                              cat_2.columns[2]: \"DATA DE INGRESSO NA CATEGORIA\",\n",
    "                              cat_2.columns[3]: \"DATA DE INGRESSO NA CARREIRA\",\n",
    "                              cat_2.columns[4]: \"1 - tempo de exercicio na categoria\",\n",
    "                              cat_2.columns[5]: \"2 - tempo exercicio na carreira\",\n",
    "                              cat_2.columns[6]: \"3 - tempo serv públ. Federal\",\n",
    "                              cat_2.columns[7]: \"4 - Serv. Públ. Geral (fed. /est./munic./distrital)\",\n",
    "                              cat_2.columns[8]: \"5 - Data de Nascimento\",\n",
    "                              cat_2.columns[9]: \"6 - Classificação no  Concurso\"})\n",
    "cat_2[\"CATEGORIA\"] = \"2\""
   ]
  },
  {
   "cell_type": "code",
   "execution_count": 18,
   "id": "658b3da9",
   "metadata": {},
   "outputs": [],
   "source": [
    "# ATENÇÃO, se houver acréscimo de Defensores, é preciso alterar este número do index\n",
    "cat_2 = cat_2.iloc[:508]\n",
    "cat_2 = cat_2.drop(cat_2.loc[cat_2[\"NOME\"].isnull()].index)"
   ]
  },
  {
   "cell_type": "code",
   "execution_count": 19,
   "id": "c09ef9cf",
   "metadata": {},
   "outputs": [],
   "source": [
    "cat_2 = cat_2[[\"POSICAO\", \"NOME\", \"DATA DE INGRESSO NA CATEGORIA\", \"DATA DE INGRESSO NA CARREIRA\",\n",
    "              \"1 - tempo de exercicio na categoria\", \"2 - tempo exercicio na carreira\",\n",
    "              \"3 - tempo serv públ. Federal\", \"4 - Serv. Públ. Geral (fed. /est./munic./distrital)\",\n",
    "              \"5 - Data de Nascimento\", \"6 - Classificação no  Concurso\", \"CATEGORIA\"]]"
   ]
  },
  {
   "cell_type": "code",
   "execution_count": 20,
   "id": "fae26153",
   "metadata": {},
   "outputs": [],
   "source": [
    "cat_2 = cat_2.sort_values(by=[\"5 - Data de Nascimento\"])\n",
    "cat_2 = cat_2.sort_values(by=[\"1 - tempo de exercicio na categoria\", \"2 - tempo exercicio na carreira\", \n",
    "                              \"3 - tempo serv públ. Federal\", \n",
    "                              \"4 - Serv. Públ. Geral (fed. /est./munic./distrital)\"], ascending=False)\n",
    "cat_2[\"POSICAO\"] = 0\n",
    "cat_2[\"POSICAO\"] = np.arange(1,(len(list(cat_2['NOME']))+1))"
   ]
  },
  {
   "cell_type": "code",
   "execution_count": 21,
   "id": "8b9a0d1e",
   "metadata": {},
   "outputs": [],
   "source": [
    "cat_2[\"DATA DE INGRESSO NA CATEGORIA\"] = cat_2[\"DATA DE INGRESSO NA CATEGORIA\"].astype(\"datetime64\")\n",
    "cat_2[\"DATA DE INGRESSO NA CATEGORIA\"] = cat_2[\"DATA DE INGRESSO NA CATEGORIA\"].dt.strftime(\"%d/%m/%Y\")\n",
    "cat_2[\"DATA DE INGRESSO NA CARREIRA\"] = cat_2[\"DATA DE INGRESSO NA CARREIRA\"].astype(\"datetime64\")\n",
    "cat_2[\"DATA DE INGRESSO NA CARREIRA\"] = cat_2[\"DATA DE INGRESSO NA CARREIRA\"].dt.strftime(\"%d/%m/%Y\")\n",
    "cat_2[\"5 - Data de Nascimento\"] = cat_2[\"5 - Data de Nascimento\"].astype(\"datetime64\")\n",
    "cat_2[\"5 - Data de Nascimento\"] = cat_2[\"5 - Data de Nascimento\"].dt.strftime(\"%d/%m/%Y\")"
   ]
  },
  {
   "cell_type": "code",
   "execution_count": 22,
   "id": "24857a65",
   "metadata": {},
   "outputs": [],
   "source": [
    "# Dia da elaboração da lista\n",
    "\n",
    "today = date.today().strftime(\"%d/%m/%Y\")\n",
    "today = today.replace(\"/\", \"-\")"
   ]
  },
  {
   "cell_type": "code",
   "execution_count": 23,
   "id": "b01a2240",
   "metadata": {},
   "outputs": [],
   "source": [
    "lista = pd.ExcelWriter(\"ORDENAÇÃO LISTA {}.xlsx\".format(today), engine=\"xlsxwriter\")"
   ]
  },
  {
   "cell_type": "code",
   "execution_count": 24,
   "id": "70e538b5",
   "metadata": {},
   "outputs": [],
   "source": [
    "cat_s.to_excel(lista, sheet_name=\"Especial\", index=False)\n",
    "cat_1.to_excel(lista, sheet_name=\"1 Categoria\", index=False)\n",
    "cat_2.to_excel(lista, sheet_name=\"2 Categoria\", index=False)"
   ]
  },
  {
   "cell_type": "code",
   "execution_count": 25,
   "id": "1a26171f",
   "metadata": {},
   "outputs": [],
   "source": [
    "# exportando o resultado com a data de elaboração salva no arquivo\n",
    "\n",
    "lista.save()"
   ]
  },
  {
   "cell_type": "code",
   "execution_count": 26,
   "id": "51009447",
   "metadata": {},
   "outputs": [],
   "source": [
    "root= Tk()\n",
    "messagebox.showinfo(\"Programa Finalizado com Sucesso\", \"Seu arquivo foi gerado com sucesso e está salvo no mesmo local que o pragrama\")\n",
    "root.destroy()"
   ]
  }
 ],
 "metadata": {
  "kernelspec": {
   "display_name": "Python 3 (ipykernel)",
   "language": "python",
   "name": "python3"
  },
  "language_info": {
   "codemirror_mode": {
    "name": "ipython",
    "version": 3
   },
   "file_extension": ".py",
   "mimetype": "text/x-python",
   "name": "python",
   "nbconvert_exporter": "python",
   "pygments_lexer": "ipython3",
   "version": "3.10.6"
  }
 },
 "nbformat": 4,
 "nbformat_minor": 5
}
