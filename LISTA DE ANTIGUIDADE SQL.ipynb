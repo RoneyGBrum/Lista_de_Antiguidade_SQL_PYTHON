{
 "cells": [
  {
   "cell_type": "code",
   "execution_count": 38,
   "id": "263e4663",
   "metadata": {},
   "outputs": [],
   "source": [
    "import pyodbc\n",
    "import pandas as pd\n",
    "import sqlite3\n",
    "import numpy as np\n",
    "from datetime import datetime, date\n",
    "import warnings                     # bibliteca para retirar os alertas \n",
    "warnings.filterwarnings('ignore')   #  chamando a bibliteca para retirar os alertas\n",
    "\n",
    "dados_conexao = (\"Driver={SQLite3 ODBC Driver}; Servidor=localhost; Database=list_antig.db\")\n",
    "\n",
    "# \"UID=Login;\"\n",
    "# \"PWD=Senha;\")\n",
    "\n",
    "conexao = pyodbc.connect(dados_conexao)\n",
    "cursor = conexao.cursor()\n",
    "\n",
    "base = pd.read_sql('SELECT NOME, CAT FROM base', conexao)\n",
    "lista_nomes = list(base[\"NOME\"])"
   ]
  },
  {
   "cell_type": "code",
   "execution_count": 39,
   "id": "dbf025af",
   "metadata": {},
   "outputs": [
    {
     "name": "stdout",
     "output_type": "stream",
     "text": [
      "QUAL DAS SEGUINTES ATIVIDADES DESEJA EXECUTAR ? \n",
      " \n",
      "                1 - ADICIONAR DIAS EM TODA A LISTA \n",
      " \n",
      "                2 - INCLUIR UM NOVO DEFENSOR \n",
      " \n",
      "                3 - AVERBAR O TEMPO DE UM DEFENSOR \n",
      "\n",
      "                4 - PROMOÇÃO DE DEFENSOR \n",
      "\n",
      "                5 - EXCLUIR DIAS EM TODA A LISTA \n",
      "\n",
      "                6 - EXCLUIR DEFENSOR DA LISTA \n",
      "\n",
      "                9 - GERAR LISTA DE ANTIGUIDADE \n",
      "\n",
      "                DIGITE O NÚMERO DA OPÇÃO DESEJADA: 9\n",
      "DESEJA FAZER OUTRA OPERAÇÃO? (S/N): N\n",
      "----------------------------------------------------------------------------------------\n",
      "AGUARDE ALGUNS INSTANTES. EM BREVE UM ARQUIVO SERÁ CRIADO COM A LISTA ATUALIAZADA\n",
      "----------------------------------------------------------------------------------------\n"
     ]
    }
   ],
   "source": [
    "continuar = \"S\"\n",
    "#_______________________________________________Ciclo para fazer o programa retornar ao início_______________________________\n",
    "while continuar == \"S\":\n",
    "\n",
    "\n",
    "    opcao = input(\"\"\"QUAL DAS SEGUINTES ATIVIDADES DESEJA EXECUTAR ? \\n \n",
    "                1 - ADICIONAR DIAS EM TODA A LISTA \\n \n",
    "                2 - INCLUIR UM NOVO DEFENSOR \\n \n",
    "                3 - AVERBAR O TEMPO DE UM DEFENSOR \\n\n",
    "                4 - PROMOÇÃO DE DEFENSOR \\n\n",
    "                5 - EXCLUIR DIAS EM TODA A LISTA \\n\n",
    "                6 - EXCLUIR DEFENSOR DA LISTA \\n\n",
    "                9 - GERAR LISTA DE ANTIGUIDADE \\n\n",
    "                DIGITE O NÚMERO DA OPÇÃO DESEJADA: \"\"\")\n",
    "\n",
    "#__________________ 1- ADIÇÃO DE DIAS EM TODA A LISTA_______________________________________________________________________ \n",
    "\n",
    "    if opcao == \"1\":\n",
    "        dias_adicao = input(\"QUANTOS DIAS SERÃO ACRESCENTADOS EM TODA LISTA: \")\n",
    "    else:\n",
    "        pass\n",
    "\n",
    "    def adicao_dias ():\n",
    "        cursor.execute(f'UPDATE base SET MAIS_ANT_CAT=MAIS_ANT_CAT+{dias_adicao}')\n",
    "        cursor.execute(f'UPDATE base SET MAIS_ANT_CARR=MAIS_ANT_CARR+{dias_adicao}')\n",
    "        cursor.execute(f'UPDATE base SET SERV_PUB_FED=SERV_PUB_FED+{dias_adicao}')\n",
    "        cursor.execute(f'UPDATE base SET SERV_PUB_GERAL=SERV_PUB_GERAL+{dias_adicao}')\n",
    "        cursor.commit()\n",
    "\n",
    "    if opcao == \"1\":\n",
    "        confirmacao_adicao_dias = input(\"DESEJA CONFIRMAR A OPERAÇÃO? (S/N): \").upper()\n",
    "        if confirmacao_adicao_dias == \"S\":\n",
    "            adicao_dias()\n",
    "    else:\n",
    "        pass\n",
    "\n",
    "#____________________5 - EXCLUSÃO DE DIAS EM TODA A LISTA___________________________________________________________________ \n",
    "\n",
    "    if opcao == \"5\":\n",
    "        dias_exclusao = input(\"QUANTOS DIAS SERÃO DESCONTADOS EM TODA LISTA: \")\n",
    "    else:\n",
    "        pass\n",
    "\n",
    "    def exclusao_dias ():\n",
    "        cursor.execute(f'UPDATE base SET MAIS_ANT_CAT=MAIS_ANT_CAT-{dias_exclusao}')\n",
    "        cursor.execute(f'UPDATE base SET MAIS_ANT_CARR=MAIS_ANT_CARR-{dias_exclusao}')\n",
    "        cursor.execute(f'UPDATE base SET SERV_PUB_FED=SERV_PUB_FED-{dias_exclusao}')\n",
    "        cursor.execute(f'UPDATE base SET SERV_PUB_GERAL=SERV_PUB_GERAL-{dias_exclusao}')\n",
    "        cursor.commit()\n",
    "\n",
    "    if opcao == \"5\":\n",
    "        confirmacao_eclusao_dias = input(\"DESEJA CONFIRMAR A OPERAÇÃO? (S/N): \").upper()\n",
    "        if confirmacao_eclusao_dias == \"S\":\n",
    "            exclusao_dias()\n",
    "    else:\n",
    "        pass\n",
    "\n",
    "#_____________________2- Inclusão de novo Defensor__________________________________________________________________________\n",
    "\n",
    "    if opcao == \"2\":\n",
    "        nome_defensor = input(\"NOME DEFENSOR: \").upper()\n",
    "        categoria = input(str(\"CATEGORIA: \"))\n",
    "        data_ingresso_dpu = input(str(\"DATA INGRESSO DPU:\"))\n",
    "        data_ingresso_categoria = input(str(\"DATA INGRESSO CATEGORIA:\"))\n",
    "        data_nascimento = input(str(\"DATA NASCIMENTO:\"))\n",
    "        classificacao = input(str(\"CLASSIFICAÇÃO CONCURSO: \"))\n",
    "    else:\n",
    "        pass\n",
    "\n",
    "    def incluir_novo_defensor():\n",
    "        cursor.execute(f'''\n",
    "        INSERT INTO base (CAT, NOME,  DT_ING_CAT, DT_ING_CARR, DN, CLASSIFICACAO, MAIS_ANT_CAT, MAIS_ANT_CARR, SERV_PUB_FED, SERV_PUB_GERAL)\n",
    "        VALUES\n",
    "        (\"{categoria}\", \"{nome_defensor}\", \"{data_ingresso_categoria}\", \"{data_ingresso_dpu}\", \"{data_nascimento}\", \"{classificacao}\", 1, 1, 1, 1)\n",
    "        ''')\n",
    "        cursor.commit()\n",
    "\n",
    "    if opcao == \"2\":\n",
    "        confirmacao = input(\"DESEJA CONFIRMAR A OPERAÇÃO? (S/N): \").upper()\n",
    "        if confirmacao == \"S\":\n",
    "            incluir_novo_defensor()\n",
    "    else:\n",
    "        pass\n",
    "\n",
    "    \n",
    "#_________________________3 - AVERBAÇÃO DE TEMPO____________________________________________________________________________\n",
    "    \n",
    "    if opcao == \"3\":\n",
    "        nome_p_averb = input(\"DIGITE O NOME COMPLETO DO DEFENSOR: \")\n",
    "        while nome_p_averb not in lista_nomes:\n",
    "            print(\"VERIFIQUE O NOME DIGITADO E TENTE NOVAMENTE\")\n",
    "            nome_p_averb = input(\"DIGITE O NOME COMPLETO DO DEFENSOR: \")\n",
    "        tipo_de_tempo = input(\"1 - SERVIÇO PÚBLICO FEDERAL \\n 2 - SERVIÇO PÚBLICO GERAL \\n DIGITE 1 ou 2: \").upper()\n",
    "        dias_averbados = input(\"QUANTIDADE DE DIAS AVERBADOS: \")\n",
    "    else:\n",
    "        pass\n",
    "    \n",
    "    def averbacao ():\n",
    "        if tipo_de_tempo == \"1\":\n",
    "            cursor.execute(f'''\n",
    "            UPDATE base SET SERV_PUB_FED=SERV_PUB_FED+{dias_averbados} WHERE NOME = \"{nome_p_averb}\"\n",
    "                        ''')\n",
    "        else:\n",
    "            cursor.execute(f'''\n",
    "            UPDATE base SET SERV_PUB_GERAL=SERV_PUB_GERAL+{dias_averbados} WHERE NOME = \"{nome_p_averb}\"\n",
    "                        ''')\n",
    "        cursor.commit()\n",
    "    \n",
    "    if opcao == \"3\":\n",
    "        confirmacao_averb = input(\"DESEJA CONFIRMAR A OPERAÇÃO? (S/N): \").upper()\n",
    "        if confirmacao_averb == \"S\":\n",
    "            averbacao()\n",
    "    else: \n",
    "        pass\n",
    "    \n",
    "#_______________________4 - PROMOÇÃO DE DEFENSOR______________________________________________________________________________\n",
    "    \n",
    "    if opcao == \"4\":\n",
    "        nome_p_promocao = input(\"DIGITE O NOME COMPLETO DO DEFENSOR: \")\n",
    "        while nome_p_promocao not in lista_nomes:\n",
    "            print(\"VERIFIQUE O NOME DIGITADO E TENTE NOVAMENTE\")\n",
    "            nome_p_promocao = input(\"DIGITE O NOME COMPLETO DO DEFENSOR: \")\n",
    "        data_ingresso_cat = input(str(\"DATA INGRESSO CATEGORIA:\"))\n",
    "        nova_cat = input(\"QUAL A NOVA CATEGORIA (S, 1, 2): \").upper()\n",
    "    \n",
    "    def promocao ():\n",
    "        cursor.execute(f'''\n",
    "            UPDATE base SET CAT=\"{nova_cat}\" WHERE NOME = \"{nome_p_promocao}\"\n",
    "                        ''')\n",
    "        cursor.execute(f'''\n",
    "            UPDATE base SET DT_ING_CAT=\"{data_ingresso_cat}\" WHERE NOME = \"{nome_p_promocao}\"\n",
    "                        ''')    \n",
    "        cursor.execute(f'''\n",
    "            UPDATE base SET MAIS_ANT_CAT=1 WHERE NOME = \"{nome_p_promocao}\"\n",
    "                        ''')   \n",
    "        cursor.commit()\n",
    "    \n",
    "    if opcao == \"4\":\n",
    "        confirmacao_promo = input(\"DESEJA CONFIRMAR A OPERAÇÃO? (S/N): \").upper()\n",
    "        if confirmacao_promo == \"S\":\n",
    "            promocao()\n",
    "    else: \n",
    "        pass\n",
    "#_________________________6 - Exclusão de Defensor_________________________________________________________________________\n",
    "\n",
    "    if opcao == \"6\":\n",
    "        nome_p_exclusao = input(\"DIGITE O NOME COMPLETO DO DEFENSOR: \")\n",
    "        while nome_p_exclusao not in lista_nomes:\n",
    "            print(\"VERIFIQUE O NOME DIGITADO E TENTE NOVAMENTE\")\n",
    "            nome_p_exclusao = input(\"DIGITE O NOME COMPLETO DO DEFENSOR: \")\n",
    "   \n",
    "    def exclusao ():\n",
    "        cursor.execute(f'''\n",
    "            DELETE FROM base WHERE NOME = \"{nome_p_exclusao}\"\n",
    "                        ''')   \n",
    "        cursor.commit()\n",
    "\n",
    "    if opcao == \"6\":\n",
    "        confirmacao_exclusao = input(\"DESEJA CONFIRMAR A OPERAÇÃO? (S/N): \").upper()\n",
    "        if confirmacao_exclusao == \"S\":\n",
    "            exclusao()\n",
    "    else: \n",
    "        pass\n",
    "\n",
    "#___________________________________Opção de fazer outra operação antes de continar com o programa____________________________\n",
    "\n",
    "    continuar = input(\"DESEJA FAZER OUTRA OPERAÇÃO? (S/N): \").upper()\n",
    "\n",
    "print(\"----------------------------------------------------------------------------------------\")\n",
    "print(\"AGUARDE ALGUNS INSTANTES. EM BREVE UM ARQUIVO SERÁ CRIADO COM A LISTA ATUALIAZADA\")\n",
    "print(\"----------------------------------------------------------------------------------------\")\n",
    "\n",
    "\n",
    "\n"
   ]
  },
  {
   "cell_type": "code",
   "execution_count": 40,
   "id": "13821f45",
   "metadata": {
    "scrolled": false
   },
   "outputs": [],
   "source": [
    "# lendo a base de dados após qualquer alteração realizada (ou não)\n",
    "df = pd.read_sql('SELECT * FROM base', conexao)\n"
   ]
  },
  {
   "cell_type": "code",
   "execution_count": 41,
   "id": "3c740277",
   "metadata": {},
   "outputs": [],
   "source": [
    "df[\"DN\"] = pd.to_datetime(df[\"DN\"], infer_datetime_format=True)"
   ]
  },
  {
   "cell_type": "code",
   "execution_count": 42,
   "id": "2541f68c",
   "metadata": {},
   "outputs": [],
   "source": [
    "# criação de um DF para cada uma das categorias\n",
    "cat_s = df.loc[df[\"CAT\"] == 0, :]\n",
    "cat_1 = df.loc[df[\"CAT\"] == 1, :]\n",
    "cat_2 = df.loc[df[\"CAT\"] == 2, :]"
   ]
  },
  {
   "cell_type": "code",
   "execution_count": 43,
   "id": "66b26c5a",
   "metadata": {},
   "outputs": [],
   "source": [
    "# classificação da Categoria especial\n",
    "cat_s.loc[cat_s[\"CAT\"] == 0,\"CAT\" ] = \"S\"\n",
    "cat_s = cat_s.sort_values(by=[\"DN\"])\n",
    "cat_s = cat_s.sort_values(by=[\"MAIS_ANT_CAT\", \"MAIS_ANT_CARR\", \"SERV_PUB_FED\", \"SERV_PUB_GERAL\"], ascending=False)\n",
    "cat_s[\"POSICAO\"] = np.arange(1,(len(list(cat_s['NOME']))+1))"
   ]
  },
  {
   "cell_type": "code",
   "execution_count": 44,
   "id": "bf999328",
   "metadata": {},
   "outputs": [],
   "source": [
    "# Classificação da 1ª Categoria\n",
    "cat_1 = cat_1.sort_values(by=[\"DN\"])\n",
    "cat_1 = cat_1.sort_values(by=[\"MAIS_ANT_CAT\", \"MAIS_ANT_CARR\", \"SERV_PUB_FED\", \"SERV_PUB_GERAL\", ], ascending=False)\n",
    "cat_1[\"POSICAO\"] = np.arange(1,(len(list(cat_1['NOME']))+1))"
   ]
  },
  {
   "cell_type": "code",
   "execution_count": 45,
   "id": "bbdbb4fd",
   "metadata": {},
   "outputs": [],
   "source": [
    "# Classificação da 2ª Categoria\n",
    "cat_2 = cat_2.sort_values(by=[\"DN\"])\n",
    "cat_2 = cat_2.sort_values(by=[\"MAIS_ANT_CAT\", \"MAIS_ANT_CARR\", \"SERV_PUB_FED\", \"SERV_PUB_GERAL\"], ascending=False)\n",
    "cat_2[\"POSICAO\"] = np.arange(1,(len(list(cat_2['NOME']))+1))"
   ]
  },
  {
   "cell_type": "code",
   "execution_count": 46,
   "id": "cf55e483",
   "metadata": {},
   "outputs": [],
   "source": [
    "# União dos 3 DFs\n",
    "\n",
    "lista = pd.concat([cat_s, cat_1, cat_2])"
   ]
  },
  {
   "cell_type": "code",
   "execution_count": 47,
   "id": "d029d9ea",
   "metadata": {},
   "outputs": [],
   "source": [
    "lista[\"DN\"] = lista[\"DN\"].dt.strftime(\"%d/%m/%Y\")"
   ]
  },
  {
   "cell_type": "code",
   "execution_count": 48,
   "id": "d0af3774",
   "metadata": {},
   "outputs": [],
   "source": [
    "# Renomeando colunas\n",
    "\n",
    "lista.rename(columns={\"CAT\": \"CATEGORIA\",\n",
    "                      \"DT_ING_CAT\": \"DATA DE INGRESSO NA CATEGORIA\",\n",
    "                     \"DT_ING_CARR\": \"DATA DE INGRESSO NA CARREIRA\",\n",
    "                     \"MAIS_ANT_CAT\": \"1– Mais Antigo na Categoria\",\n",
    "                     \"MAIS_ANT_CARR\": \"2 – Mais Antigo Na carreira DPU\",\n",
    "                     \"SERV_PUB_FED\": \"3 – Mais Antigo no Serviço público federal\",\n",
    "                      \"SERV_PUB_GERAL\": \"4 – Mais Antigo no Serv. Públ. Geral (Fed/Est/Mun/Dist)\",\n",
    "                      \"DN\": \"5 – Data de Nascimento\",\n",
    "                      \"CLASSIFICACAO\": \"6 – Classificação no Concurso\"\n",
    "                     }, inplace=True)"
   ]
  },
  {
   "cell_type": "code",
   "execution_count": 49,
   "id": "811f65f4",
   "metadata": {},
   "outputs": [],
   "source": [
    "# Alterando a posição das colunas \n",
    "\n",
    "lista = lista[[\"POSICAO\",\"NOME\", \"DATA DE INGRESSO NA CATEGORIA\", \"DATA DE INGRESSO NA CARREIRA\",\n",
    "              \"1– Mais Antigo na Categoria\", \"2 – Mais Antigo Na carreira DPU\",\n",
    "              \"3 – Mais Antigo no Serviço público federal\", \"4 – Mais Antigo no Serv. Públ. Geral (Fed/Est/Mun/Dist)\",\n",
    "              \"5 – Data de Nascimento\", \"6 – Classificação no Concurso\", \"CATEGORIA\"]]"
   ]
  },
  {
   "cell_type": "code",
   "execution_count": 50,
   "id": "6fae37d2",
   "metadata": {},
   "outputs": [],
   "source": [
    "# criação de um DF para cada uma das categorias para salvar uma em cada aba da planilha\n",
    "cat_s = lista.loc[lista[\"CATEGORIA\"] == \"S\", :]\n",
    "cat_1 = lista.loc[lista[\"CATEGORIA\"] == 1, :]\n",
    "cat_2 = lista.loc[lista[\"CATEGORIA\"] == 2, :]"
   ]
  },
  {
   "cell_type": "code",
   "execution_count": 51,
   "id": "0ef3b1f3",
   "metadata": {},
   "outputs": [],
   "source": [
    "# Dia da elaboração da lista\n",
    "today = date.today().strftime(\"%d/%m/%Y\")\n",
    "today = today.replace(\"/\", \"-\")"
   ]
  },
  {
   "cell_type": "code",
   "execution_count": 52,
   "id": "bcce6e2f",
   "metadata": {},
   "outputs": [],
   "source": [
    "# exportando o resultado com a data de elaboração salva no arquivo\n",
    "\n",
    "lista = pd.ExcelWriter(\"LISTA ANTIGUIDADE {}.xlsx\".format(today), engine=\"xlsxwriter\")\n",
    "\n",
    "cat_s.to_excel(lista, sheet_name=\"Especial\", index=False)\n",
    "cat_1.to_excel(lista, sheet_name=\"1 Categoria\", index=False)\n",
    "cat_2.to_excel(lista, sheet_name=\"2 Categoria\", index=False)\n",
    "\n",
    "lista.save()"
   ]
  },
  {
   "cell_type": "code",
   "execution_count": null,
   "id": "72abf7da",
   "metadata": {},
   "outputs": [],
   "source": [
    "print(\"----------------------------------------------------------------------------------------\")\n",
    "print(\"CASO QUEIRA EXECUTAR MAIS ALGUM REGISTRO, FAVOR ENCERRAR O PROGRAMA E ABRIR NOVAMENTE\")\n",
    "print(\"----------------------------------------------------------------------------------------\")"
   ]
  },
  {
   "cell_type": "code",
   "execution_count": 1,
   "id": "9cca95f2",
   "metadata": {},
   "outputs": [
    {
     "ename": "NameError",
     "evalue": "name 'cursor' is not defined",
     "output_type": "error",
     "traceback": [
      "\u001b[1;31m---------------------------------------------------------------------------\u001b[0m",
      "\u001b[1;31mNameError\u001b[0m                                 Traceback (most recent call last)",
      "Input \u001b[1;32mIn [1]\u001b[0m, in \u001b[0;36m<cell line: 1>\u001b[1;34m()\u001b[0m\n\u001b[1;32m----> 1\u001b[0m \u001b[43mcursor\u001b[49m\u001b[38;5;241m.\u001b[39mclose()\n\u001b[0;32m      2\u001b[0m conexao\u001b[38;5;241m.\u001b[39mclose()\n",
      "\u001b[1;31mNameError\u001b[0m: name 'cursor' is not defined"
     ]
    }
   ],
   "source": [
    "cursor.close()\n",
    "conexao.close()"
   ]
  }
 ],
 "metadata": {
  "kernelspec": {
   "display_name": "Python 3 (ipykernel)",
   "language": "python",
   "name": "python3"
  },
  "language_info": {
   "codemirror_mode": {
    "name": "ipython",
    "version": 3
   },
   "file_extension": ".py",
   "mimetype": "text/x-python",
   "name": "python",
   "nbconvert_exporter": "python",
   "pygments_lexer": "ipython3",
   "version": "3.10.6"
  }
 },
 "nbformat": 4,
 "nbformat_minor": 5
}
